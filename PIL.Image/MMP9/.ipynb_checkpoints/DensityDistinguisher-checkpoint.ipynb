{
 "cells": [
  {
   "cell_type": "markdown",
   "metadata": {},
   "source": [
    "#Image Analysis"
   ]
  },
  {
   "cell_type": "markdown",
   "metadata": {},
   "source": [
    "**Module Import**\n",
    "- PIL (Python Image Library)\n",
    "- Numpy\n",
    "- Matplotlib"
   ]
  },
  {
   "cell_type": "code",
   "execution_count": 1,
   "metadata": {
    "collapsed": true
   },
   "outputs": [],
   "source": [
    "from PIL import Image\n",
    "import numpy as np\n",
    "import pandas as pd\n",
    "import matplotlib.pyplot as plt\n",
    "%matplotlib inline"
   ]
  },
  {
   "cell_type": "markdown",
   "metadata": {},
   "source": [
    "**Load Image Files**"
   ]
  },
  {
   "cell_type": "code",
   "execution_count": null,
   "metadata": {
    "collapsed": true
   },
   "outputs": [],
   "source": []
  },
  {
   "cell_type": "code",
   "execution_count": 2,
   "metadata": {
    "collapsed": false
   },
   "outputs": [],
   "source": [
    "img_01 = Image.open('1LGEG-CTRL-20h-MDM-MMP-9-good2-merge_C002.tif')\n",
    "img_02 = Image.open('2LGEG-TB-20h-MDM-MMP-9-good2-merge_C002.tif')\n",
    "img_03 = Image.open('3HGEG-CTRL-20h-MDM-MMP-9-good2-merge_C002.tif')\n",
    "img_04 = Image.open('4HGEG-TB-20h-MDM-MMP-9-good2-merge_C002.tif')\n",
    "img_05 = Image.open('5LGW-CTRL-20h-MDM-MMP-9-good2-merge_C002.tif')\n",
    "img_06 = Image.open('6LGW-TB-20h-MDM-MMP-9-good-merge_C002.tif')\n",
    "img_07 = Image.open('7HGW-CTRL-20h-MDM-MMP-9-good1-merge_C002.tif')\n",
    "img_08 = Image.open('8HGW-TB-20h-MDM-MMP-9-2-merge_C002.tif')\n",
    "img_09 = Image.open('9LGYL-CTRL-20h-MDM-MMP-9-good1-merge_C002.tif')\n",
    "img_10 = Image.open('10LGYL-TB-20h-MDM-MMP-9-good2-merge_C002.tif')\n",
    "img_11 = Image.open('11HGYL-CTRL-20h-MDM-MMP-9-good1-merge_C002.tif')\n",
    "img_12 = Image.open('12HGYL-TB-20h-MDM-MMP-9-good2-merge_C002.tif')"
   ]
  },
  {
   "cell_type": "markdown",
   "metadata": {},
   "source": [
    "**Helper Functions**\n",
    "\n",
    "**1. Function: Image Data Extraction**\n",
    "- matrix: RGB tuples according to the coordinates\n",
    "- integrated density: sum of green channel values\n",
    "- points: list of green channel values"
   ]
  },
  {
   "cell_type": "code",
   "execution_count": 3,
   "metadata": {
    "collapsed": false
   },
   "outputs": [],
   "source": [
    "def extractData(image):\n",
    "    x = image.size[0]\n",
    "    y = image.size[1]\n",
    "    \n",
    "    matrix = []\n",
    "    points = []\n",
    "    integrated_density = 0\n",
    "\n",
    "    for i in range(x):\n",
    "        matrix.append([])\n",
    "        for j in range(y):\n",
    "            matrix[i].append(image.getpixel((j,i)))\n",
    "            integrated_density += image.getpixel((i,j))[1]\n",
    "            points.append(image.getpixel((i,j))[1])\n",
    "    return matrix, integrated_density, points"
   ]
  },
  {
   "cell_type": "markdown",
   "metadata": {},
   "source": [
    "**2. Function: Histogram**"
   ]
  },
  {
   "cell_type": "code",
   "execution_count": 4,
   "metadata": {
    "collapsed": true
   },
   "outputs": [],
   "source": [
    "def creatHistogram(points_list):\n",
    "    max_value = max(points_list)\n",
    "    histo = [0] * (max_value + 1)\n",
    "    for point in points_list:\n",
    "        histo[point] +=1        \n",
    "    return histo"
   ]
  },
  {
   "cell_type": "markdown",
   "metadata": {},
   "source": [
    "**Execution**\n",
    "\n",
    "**Analysing Images**"
   ]
  },
  {
   "cell_type": "code",
   "execution_count": 18,
   "metadata": {
    "collapsed": true
   },
   "outputs": [],
   "source": [
    "matrix_01, integrated_density_01, points_01= extractData(img_01)\n",
    "matrix_02, integrated_density_02, points_02= extractData(img_02)\n",
    "matrix_03, integrated_density_03, points_03= extractData(img_03)\n",
    "matrix_04, integrated_density_04, points_04= extractData(img_04)\n",
    "matrix_05, integrated_density_05, points_05= extractData(img_05)\n",
    "matrix_06, integrated_density_06, points_06= extractData(img_06)\n",
    "matrix_07, integrated_density_07, points_07= extractData(img_07)\n",
    "matrix_08, integrated_density_08, points_08= extractData(img_08)\n",
    "matrix_09, integrated_density_09, points_09= extractData(img_09)\n",
    "matrix_10, integrated_density_10, points_10= extractData(img_10)\n",
    "matrix_11, integrated_density_11, points_11= extractData(img_11)\n",
    "matrix_12, integrated_density_12, points_12= extractData(img_12)"
   ]
  },
  {
   "cell_type": "markdown",
   "metadata": {},
   "source": [
    "**Histogram Ploting**"
   ]
  },
  {
   "cell_type": "code",
   "execution_count": 20,
   "metadata": {
    "collapsed": false,
    "scrolled": true
   },
   "outputs": [],
   "source": [
    "def histoPlot(points):\n",
    "    h = creatHistogram(points)\n",
    "    plt.bar(range(len(h)), h, color = 'green')"
   ]
  },
  {
   "cell_type": "code",
   "execution_count": 28,
   "metadata": {
    "collapsed": false
   },
   "outputs": [
    {
     "data": {
      "image/png": "[encoded data removed]",
      "text/plain": [
       "<matplotlib.figure.Figure at 0x34587a70>"
      ]
     },
     "metadata": {},
     "output_type": "display_data"
    }
   ],
   "source": [
    "histoPlot(points_05)"
   ]
  },
  {
   "cell_type": "code",
   "execution_count": 7,
   "metadata": {
    "collapsed": false
   },
   "outputs": [],
   "source": [
    "def distinguish(matrix):    \n",
    "    matrix_distinguished = matrix[:]\n",
    "    for i in range(1024):\n",
    "        for j in range(1024):\n",
    "            dark_index = 0\n",
    "            if matrix[i][j][1]<16:\n",
    "                if i>3 and i<1024-3 and j>3 and j<1024-3:\n",
    "                    around = [matrix[x][y] for x in range(i-3, i+4) for y in range(j-3, j+4)]\n",
    "                    around.remove(matrix[i][j])\n",
    "                    for a in around:\n",
    "                        if a[1]<9:\n",
    "                            dark_index +=1\n",
    "                    if dark_index >8:\n",
    "                        matrix_distinguished[i][j] = (255,0,0)\n",
    "                else:\n",
    "                    matrix_distinguished[i][j] = (255,0,0)\n",
    "    return matrix_distinguished"
   ]
  },
  {
   "cell_type": "code",
   "execution_count": 29,
   "metadata": {
    "collapsed": true
   },
   "outputs": [],
   "source": [
    "matrix_01d = distinguish(matrix_01)\n",
    "matrix_02d = distinguish(matrix_02)\n",
    "matrix_03d = distinguish(matrix_03)\n",
    "matrix_04d = distinguish(matrix_04)\n",
    "matrix_05d = distinguish(matrix_05)\n",
    "matrix_06d = distinguish(matrix_06)\n",
    "matrix_07d = distinguish(matrix_07)\n",
    "matrix_08d = distinguish(matrix_08)\n",
    "matrix_09d = distinguish(matrix_09)\n",
    "matrix_10d = distinguish(matrix_10)\n",
    "matrix_11d = distinguish(matrix_11)\n",
    "matrix_12d = distinguish(matrix_12)"
   ]
  },
  {
   "cell_type": "code",
   "execution_count": 32,
   "metadata": {
    "collapsed": false
   },
   "outputs": [],
   "source": [
    "def imageReconstruct(matrix):\n",
    "    df = np.array(matrix, dtype=np.uint8)\n",
    "    img = Image.fromarray(df, 'RGB')\n",
    "    img.save('image.png')\n",
    "    return img"
   ]
  },
  {
   "cell_type": "code",
   "execution_count": 13,
   "metadata": {
    "collapsed": true
   },
   "outputs": [],
   "source": [
    "def calculateDensity(matrix, matrix_d):\n",
    "    interested_integrated_density = 0\n",
    "    background_integrated_density = 0\n",
    "    interested_area = 0\n",
    "    background_area = 0\n",
    "    for i in range(1024):\n",
    "        for j in range(1024):\n",
    "            if matrix_d[i][j][0] != 255:\n",
    "                interested_integrated_density += matrix[i][j][1]\n",
    "                interested_area += 1\n",
    "            else:\n",
    "                background_integrated_density += matrix[i][j][1]\n",
    "                background_area +=1\n",
    "    interested_mean = interested_integrated_density / interested_area\n",
    "    background_mean = background_integrated_density / background_area\n",
    "    return interested_mean - background_mean"
   ]
  },
  {
   "cell_type": "code",
   "execution_count": 81,
   "metadata": {
    "collapsed": true
   },
   "outputs": [],
   "source": [
    "density_11 = calculateDensity(matrix_11, matrix_11d)"
   ]
  },
  {
   "cell_type": "code",
   "execution_count": null,
   "metadata": {
    "collapsed": true
   },
   "outputs": [],
   "source": []
  }
 ],
 "metadata": {
  "kernelspec": {
   "display_name": "Python 3",
   "language": "python",
   "name": "python3"
  },
  "language_info": {
   "codemirror_mode": {
    "name": "ipython",
    "version": 3
   },
   "file_extension": ".py",
   "mimetype": "text/x-python",
   "name": "python",
   "nbconvert_exporter": "python",
   "pygments_lexer": "ipython3",
   "version": "3.4.3"
  }
 },
 "nbformat": 4,
 "nbformat_minor": 0
}
